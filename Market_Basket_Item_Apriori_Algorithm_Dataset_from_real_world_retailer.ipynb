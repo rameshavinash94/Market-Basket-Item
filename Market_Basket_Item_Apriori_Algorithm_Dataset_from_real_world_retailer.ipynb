{
  "nbformat": 4,
  "nbformat_minor": 0,
  "metadata": {
    "colab": {
      "name": "Market Basket Item - Apriori Algorithm Dataset from real-world retailer.ipynb",
      "provenance": [],
      "authorship_tag": "ABX9TyMj2cHFstidZ4TalP3rX8Ni",
      "include_colab_link": true
    },
    "kernelspec": {
      "name": "python3",
      "display_name": "Python 3"
    },
    "language_info": {
      "name": "python"
    }
  },
  "cells": [
    {
      "cell_type": "markdown",
      "metadata": {
        "id": "view-in-github",
        "colab_type": "text"
      },
      "source": [
        "<a href=\"https://colab.research.google.com/github/rameshavinash94/Market-Basket-Item/blob/main/Market_Basket_Item_Apriori_Algorithm_Dataset_from_real_world_retailer.ipynb\" target=\"_parent\"><img src=\"https://colab.research.google.com/assets/colab-badge.svg\" alt=\"Open In Colab\"/></a>"
      ]
    },
    {
      "cell_type": "markdown",
      "metadata": {
        "id": "lX6tMJT2uiHn"
      },
      "source": [
        "### **IMPORTING LIBRARIES**"
      ]
    },
    {
      "cell_type": "code",
      "metadata": {
        "id": "O69-BybgdcX6"
      },
      "source": [
        "#importing library\n",
        "import pandas as pd\n",
        "import numpy as np\n",
        "from mlxtend.frequent_patterns import association_rules\n",
        "from apyori import apriori"
      ],
      "execution_count": 114,
      "outputs": []
    },
    {
      "cell_type": "markdown",
      "metadata": {
        "id": "uIXtbLJxuot-"
      },
      "source": [
        "### **READ AND PREPROCESS TRAIN DATASET**"
      ]
    },
    {
      "cell_type": "code",
      "metadata": {
        "id": "OoxazKgbesIJ"
      },
      "source": [
        "df = pd.read_csv(\"/content/TRAIN-ARULES.csv\")"
      ],
      "execution_count": 115,
      "outputs": []
    },
    {
      "cell_type": "code",
      "metadata": {
        "colab": {
          "base_uri": "https://localhost:8080/",
          "height": 419
        },
        "id": "DCcko8uxgDVY",
        "outputId": "05d6633d-cf3a-48d2-cc8e-dd4e15049006"
      },
      "source": [
        "df.head()"
      ],
      "execution_count": 116,
      "outputs": [
        {
          "output_type": "execute_result",
          "data": {
            "text/html": [
              "<div>\n",
              "<style scoped>\n",
              "    .dataframe tbody tr th:only-of-type {\n",
              "        vertical-align: middle;\n",
              "    }\n",
              "\n",
              "    .dataframe tbody tr th {\n",
              "        vertical-align: top;\n",
              "    }\n",
              "\n",
              "    .dataframe thead th {\n",
              "        text-align: right;\n",
              "    }\n",
              "</style>\n",
              "<table border=\"1\" class=\"dataframe\">\n",
              "  <thead>\n",
              "    <tr style=\"text-align: right;\">\n",
              "      <th></th>\n",
              "      <th>order_id</th>\n",
              "      <th>user_id</th>\n",
              "      <th>product_name</th>\n",
              "    </tr>\n",
              "  </thead>\n",
              "  <tbody>\n",
              "    <tr>\n",
              "      <th>0</th>\n",
              "      <td>1483</td>\n",
              "      <td>90</td>\n",
              "      <td>Organic Pink Lemonade Bunny Fruit Snacks</td>\n",
              "    </tr>\n",
              "    <tr>\n",
              "      <th>1</th>\n",
              "      <td>1483</td>\n",
              "      <td>90</td>\n",
              "      <td>Dark Chocolate Minis</td>\n",
              "    </tr>\n",
              "    <tr>\n",
              "      <th>2</th>\n",
              "      <td>1483</td>\n",
              "      <td>90</td>\n",
              "      <td>Sparkling Water, Natural Mango Essenced</td>\n",
              "    </tr>\n",
              "    <tr>\n",
              "      <th>3</th>\n",
              "      <td>1483</td>\n",
              "      <td>90</td>\n",
              "      <td>Peach-Pear Sparkling Water</td>\n",
              "    </tr>\n",
              "    <tr>\n",
              "      <th>4</th>\n",
              "      <td>1483</td>\n",
              "      <td>90</td>\n",
              "      <td>Organic Heritage Flakes Cereal</td>\n",
              "    </tr>\n",
              "    <tr>\n",
              "      <th>...</th>\n",
              "      <td>...</td>\n",
              "      <td>...</td>\n",
              "      <td>...</td>\n",
              "    </tr>\n",
              "    <tr>\n",
              "      <th>12958</th>\n",
              "      <td>3413579</td>\n",
              "      <td>84</td>\n",
              "      <td>Organic Avocado</td>\n",
              "    </tr>\n",
              "    <tr>\n",
              "      <th>12959</th>\n",
              "      <td>3413579</td>\n",
              "      <td>84</td>\n",
              "      <td>Guacamole</td>\n",
              "    </tr>\n",
              "    <tr>\n",
              "      <th>12960</th>\n",
              "      <td>3413579</td>\n",
              "      <td>84</td>\n",
              "      <td>Thin And Crispy Corn Tortilla Chips</td>\n",
              "    </tr>\n",
              "    <tr>\n",
              "      <th>12961</th>\n",
              "      <td>3413579</td>\n",
              "      <td>84</td>\n",
              "      <td>Original Veggie Straws</td>\n",
              "    </tr>\n",
              "    <tr>\n",
              "      <th>12962</th>\n",
              "      <td>3413579</td>\n",
              "      <td>84</td>\n",
              "      <td>Organic Wheat Square Crackers</td>\n",
              "    </tr>\n",
              "  </tbody>\n",
              "</table>\n",
              "<p>12963 rows × 3 columns</p>\n",
              "</div>"
            ],
            "text/plain": [
              "       order_id  user_id                              product_name\n",
              "0      1483      90       Organic Pink Lemonade Bunny Fruit Snacks\n",
              "1      1483      90       Dark Chocolate Minis                    \n",
              "2      1483      90       Sparkling Water, Natural Mango Essenced \n",
              "3      1483      90       Peach-Pear Sparkling Water              \n",
              "4      1483      90       Organic Heritage Flakes Cereal          \n",
              "...     ...      ..                                  ...          \n",
              "12958  3413579   84       Organic Avocado                         \n",
              "12959  3413579   84       Guacamole                               \n",
              "12960  3413579   84       Thin And Crispy Corn Tortilla Chips     \n",
              "12961  3413579   84       Original Veggie Straws                  \n",
              "12962  3413579   84       Organic Wheat Square Crackers           \n",
              "\n",
              "[12963 rows x 3 columns]"
            ]
          },
          "metadata": {},
          "execution_count": 116
        }
      ]
    },
    {
      "cell_type": "code",
      "metadata": {
        "id": "Pa-B80Tte5F3"
      },
      "source": [
        "final_Df = df.groupby(['order_id']).agg({'product_name':lambda x: list(x)})"
      ],
      "execution_count": 117,
      "outputs": []
    },
    {
      "cell_type": "code",
      "metadata": {
        "colab": {
          "base_uri": "https://localhost:8080/",
          "height": 371
        },
        "id": "Oc_vJqXDpKEk",
        "outputId": "38904385-480c-4b89-8022-a61db49f410e"
      },
      "source": [
        "final_Df.head()"
      ],
      "execution_count": 118,
      "outputs": [
        {
          "output_type": "execute_result",
          "data": {
            "text/html": [
              "<div>\n",
              "<style scoped>\n",
              "    .dataframe tbody tr th:only-of-type {\n",
              "        vertical-align: middle;\n",
              "    }\n",
              "\n",
              "    .dataframe tbody tr th {\n",
              "        vertical-align: top;\n",
              "    }\n",
              "\n",
              "    .dataframe thead th {\n",
              "        text-align: right;\n",
              "    }\n",
              "</style>\n",
              "<table border=\"1\" class=\"dataframe\">\n",
              "  <thead>\n",
              "    <tr style=\"text-align: right;\">\n",
              "      <th></th>\n",
              "      <th>product_name</th>\n",
              "    </tr>\n",
              "    <tr>\n",
              "      <th>order_id</th>\n",
              "      <th></th>\n",
              "    </tr>\n",
              "  </thead>\n",
              "  <tbody>\n",
              "    <tr>\n",
              "      <th>1483</th>\n",
              "      <td>[Organic Pink Lemonade Bunny Fruit Snacks, Dark Chocolate Minis, Sparkling Water, Natural Mango Essenced, Peach-Pear Sparkling Water, Organic Heritage Flakes Cereal, Popped Salted Caramel Granola Bars, Healthy Grains Granola Bar, Vanilla Blueberry, Flax Plus Organic Pumpkin Flax Granola, Sweet &amp; Salty Nut Almond Granola Bars, Cool Mint Chocolate Energy Bar, Chocolate Chip Energy Bars, Trail Mix Fruit &amp; Nut Chewy Granola Bars]</td>\n",
              "    </tr>\n",
              "    <tr>\n",
              "      <th>4595</th>\n",
              "      <td>[Creme De Menthe Thins, Milk Chocolate English Toffee Miniatures Candy Bars, Baker's Pure Cane Ultrafine Sugar, Plain Bagels, Cinnamon Bread]</td>\n",
              "    </tr>\n",
              "    <tr>\n",
              "      <th>7099</th>\n",
              "      <td>[Revive Zero Vitamin Water, VitaminWater Zero™ XXX Acai Blueberry Pomegranate, Vitamin Water Zero Rise Orange, Energy Tropical Citrus Vitamin Water Drink, Zero Vitamin Water, Vitamin Water Zero Squeezed Lemonade, Total 2% Lowfat Greek Strained Yogurt with Peach, Total 2% with Strawberry Lowfat Greek Strained Yogurt, Total 0% Nonfat Greek Yogurt, Total 0% Raspberry Yogurt, Natural Artesian Water, Original Turkey Jerky, Teriyaki Turkey Jerky]</td>\n",
              "    </tr>\n",
              "    <tr>\n",
              "      <th>8382</th>\n",
              "      <td>[Mountain Spring Water, Clementines, Bag, Pineapple on the Bottom Greek Yogurt, Pomegranate on the Bottom Non-Fat Greek Yogurt, Original French Vanilla Yogurt, Original Lowfat Lemon Burst Yogurt, Jet-Dry Original Rinse Aid, Jumbo Cotton Balls, Hearty Grains 100% Whole Wheat English Muffins]</td>\n",
              "    </tr>\n",
              "    <tr>\n",
              "      <th>14400</th>\n",
              "      <td>[Truffle, Sea Salt, Black Truffle, 1500 Pale Ale]</td>\n",
              "    </tr>\n",
              "  </tbody>\n",
              "</table>\n",
              "</div>"
            ],
            "text/plain": [
              "                                                                                                                                                                                                                                                                                                                                                                                                                                                          product_name\n",
              "order_id                                                                                                                                                                                                                                                                                                                                                                                                                                                              \n",
              "1483      [Organic Pink Lemonade Bunny Fruit Snacks, Dark Chocolate Minis, Sparkling Water, Natural Mango Essenced, Peach-Pear Sparkling Water, Organic Heritage Flakes Cereal, Popped Salted Caramel Granola Bars, Healthy Grains Granola Bar, Vanilla Blueberry, Flax Plus Organic Pumpkin Flax Granola, Sweet & Salty Nut Almond Granola Bars, Cool Mint Chocolate Energy Bar, Chocolate Chip Energy Bars, Trail Mix Fruit & Nut Chewy Granola Bars]               \n",
              "4595      [Creme De Menthe Thins, Milk Chocolate English Toffee Miniatures Candy Bars, Baker's Pure Cane Ultrafine Sugar, Plain Bagels, Cinnamon Bread]                                                                                                                                                                                                                                                                                                               \n",
              "7099      [Revive Zero Vitamin Water, VitaminWater Zero™ XXX Acai Blueberry Pomegranate, Vitamin Water Zero Rise Orange, Energy Tropical Citrus Vitamin Water Drink, Zero Vitamin Water, Vitamin Water Zero Squeezed Lemonade, Total 2% Lowfat Greek Strained Yogurt with Peach, Total 2% with Strawberry Lowfat Greek Strained Yogurt, Total 0% Nonfat Greek Yogurt, Total 0% Raspberry Yogurt, Natural Artesian Water, Original Turkey Jerky, Teriyaki Turkey Jerky]\n",
              "8382      [Mountain Spring Water, Clementines, Bag, Pineapple on the Bottom Greek Yogurt, Pomegranate on the Bottom Non-Fat Greek Yogurt, Original French Vanilla Yogurt, Original Lowfat Lemon Burst Yogurt, Jet-Dry Original Rinse Aid, Jumbo Cotton Balls, Hearty Grains 100% Whole Wheat English Muffins]                                                                                                                                                         \n",
              "14400     [Truffle, Sea Salt, Black Truffle, 1500 Pale Ale]                                                                                                                                                                                                                                                                                                                                                                                                           "
            ]
          },
          "metadata": {},
          "execution_count": 118
        }
      ]
    },
    {
      "cell_type": "code",
      "metadata": {
        "id": "2lA6tmH5gyFH"
      },
      "source": [
        "transactions = final_Df['product_name'].values"
      ],
      "execution_count": 119,
      "outputs": []
    },
    {
      "cell_type": "code",
      "metadata": {
        "colab": {
          "base_uri": "https://localhost:8080/"
        },
        "id": "-ggzuHUgpJMB",
        "outputId": "2816fb8c-f8fc-4814-826e-07f40a663e8b"
      },
      "source": [
        "transactions"
      ],
      "execution_count": 120,
      "outputs": [
        {
          "output_type": "execute_result",
          "data": {
            "text/plain": [
              "array([list(['Organic Pink Lemonade Bunny Fruit Snacks', 'Dark Chocolate Minis', 'Sparkling Water, Natural Mango Essenced', 'Peach-Pear Sparkling Water', 'Organic Heritage Flakes Cereal', 'Popped Salted Caramel Granola Bars', 'Healthy Grains Granola Bar, Vanilla Blueberry', 'Flax Plus Organic Pumpkin Flax Granola', 'Sweet & Salty Nut Almond Granola Bars', 'Cool Mint Chocolate Energy Bar', 'Chocolate Chip Energy Bars', 'Trail Mix Fruit & Nut Chewy Granola Bars']),\n",
              "       list(['Creme De Menthe Thins', 'Milk Chocolate English Toffee Miniatures Candy Bars', \"Baker's Pure Cane Ultrafine Sugar\", 'Plain Bagels', 'Cinnamon Bread']),\n",
              "       list(['Revive Zero Vitamin Water', 'VitaminWater Zero™ XXX Acai Blueberry Pomegranate', 'Vitamin Water Zero Rise Orange', 'Energy Tropical Citrus Vitamin Water Drink', 'Zero Vitamin Water', 'Vitamin Water Zero Squeezed Lemonade', 'Total 2% Lowfat Greek Strained Yogurt with Peach', 'Total 2% with Strawberry Lowfat Greek Strained Yogurt', 'Total 0% Nonfat Greek Yogurt', 'Total 0% Raspberry Yogurt', 'Natural Artesian Water', 'Original Turkey Jerky', 'Teriyaki Turkey Jerky']),\n",
              "       ...,\n",
              "       list(['Vegetarian Roast', 'Unsweetened Almondmilk', 'Large Lemon', 'Navel Oranges Bag', 'Blood Oranges', 'Veggie Pepperoni Pizza', 'Russet Potato', 'Organic Yellow Onion', 'Original Coconut Milk Creamer', 'Organic Crushed Fire Roasted Tomatoes', 'Home Style Beefless Tips', 'Spaghetti', 'All Purpose Crushed Tomatoes', 'Semolina Flour', 'White Horseradish', 'Organic Large Brown Eggs', 'Organic Red Radish, Bunch', '100% Pure Pumpkin', 'Feta Cheese Crumbles', 'Total 0% Nonfat Greek Yogurt']),\n",
              "       list(['Original Rice Krispies Treats', 'Apples', 'Granny Smith Apples', 'Clementines', 'Cheez-It Baked Snack Crackers', 'Popcorn', \"Crunchy Oats 'n Honey Granola Bars\"]),\n",
              "       list(['Lavender Hand Soap', 'Organic Avocado', 'Guacamole', 'Thin And Crispy Corn Tortilla Chips', 'Original Veggie Straws', 'Organic Wheat Square Crackers'])],\n",
              "      dtype=object)"
            ]
          },
          "metadata": {},
          "execution_count": 120
        }
      ]
    },
    {
      "cell_type": "code",
      "metadata": {
        "colab": {
          "base_uri": "https://localhost:8080/"
        },
        "id": "8XKH-Zyqhbx2",
        "outputId": "e9b026c7-df40-48ea-b60f-e4259eb8fb33"
      },
      "source": [
        "len(transactions)"
      ],
      "execution_count": 121,
      "outputs": [
        {
          "output_type": "execute_result",
          "data": {
            "text/plain": [
              "1418"
            ]
          },
          "metadata": {},
          "execution_count": 121
        }
      ]
    },
    {
      "cell_type": "markdown",
      "metadata": {
        "id": "6TeXF-Rkuvph"
      },
      "source": [
        "### **APRIORI**"
      ]
    },
    {
      "cell_type": "code",
      "metadata": {
        "id": "KdSiINwOhkxh"
      },
      "source": [
        "#create apriori rule\n",
        "rules = apriori(transactions,min_support=0.0045)"
      ],
      "execution_count": 122,
      "outputs": []
    },
    {
      "cell_type": "code",
      "metadata": {
        "id": "lEYcu4iEiDcT"
      },
      "source": [
        "#convert generator to list\n",
        "Appriori_list = list(rules)"
      ],
      "execution_count": 123,
      "outputs": []
    },
    {
      "cell_type": "code",
      "metadata": {
        "id": "XKVAF8vAiE-q"
      },
      "source": [
        "#convert to dataframe\n",
        "final_df = pd.DataFrame(Appriori_list)"
      ],
      "execution_count": 124,
      "outputs": []
    },
    {
      "cell_type": "code",
      "metadata": {
        "id": "txk7S7ONiMSW"
      },
      "source": [
        "itemset = final_df.iloc[:,0:2]"
      ],
      "execution_count": 125,
      "outputs": []
    },
    {
      "cell_type": "code",
      "metadata": {
        "id": "0QrtgaYlrEXY"
      },
      "source": [
        "columns=['itemsets','support']\n",
        "\n",
        "itemset.columns=columns"
      ],
      "execution_count": 126,
      "outputs": []
    },
    {
      "cell_type": "code",
      "metadata": {
        "colab": {
          "base_uri": "https://localhost:8080/",
          "height": 504
        },
        "id": "ZTHhzSYAren_",
        "outputId": "8ceb0b57-7944-44ee-f090-8d73118dae68"
      },
      "source": [
        "itemset.head()"
      ],
      "execution_count": 127,
      "outputs": [
        {
          "output_type": "execute_result",
          "data": {
            "text/html": [
              "<div>\n",
              "<style scoped>\n",
              "    .dataframe tbody tr th:only-of-type {\n",
              "        vertical-align: middle;\n",
              "    }\n",
              "\n",
              "    .dataframe tbody tr th {\n",
              "        vertical-align: top;\n",
              "    }\n",
              "\n",
              "    .dataframe thead th {\n",
              "        text-align: right;\n",
              "    }\n",
              "</style>\n",
              "<table border=\"1\" class=\"dataframe\">\n",
              "  <thead>\n",
              "    <tr style=\"text-align: right;\">\n",
              "      <th></th>\n",
              "      <th>itemsets</th>\n",
              "      <th>support</th>\n",
              "    </tr>\n",
              "  </thead>\n",
              "  <tbody>\n",
              "    <tr>\n",
              "      <th>0</th>\n",
              "      <td>(0% Greek Strained Yogurt)</td>\n",
              "      <td>0.009873</td>\n",
              "    </tr>\n",
              "    <tr>\n",
              "      <th>1</th>\n",
              "      <td>(100% Juice, Variety Pack)</td>\n",
              "      <td>0.004937</td>\n",
              "    </tr>\n",
              "    <tr>\n",
              "      <th>2</th>\n",
              "      <td>(100% Premium Select Not From Concentrate Pure Prune Juice)</td>\n",
              "      <td>0.009168</td>\n",
              "    </tr>\n",
              "    <tr>\n",
              "      <th>3</th>\n",
              "      <td>(100% Recycled Paper Towels)</td>\n",
              "      <td>0.005642</td>\n",
              "    </tr>\n",
              "    <tr>\n",
              "      <th>4</th>\n",
              "      <td>(1500 Pale Ale)</td>\n",
              "      <td>0.014810</td>\n",
              "    </tr>\n",
              "    <tr>\n",
              "      <th>...</th>\n",
              "      <td>...</td>\n",
              "      <td>...</td>\n",
              "    </tr>\n",
              "    <tr>\n",
              "      <th>1487</th>\n",
              "      <td>(Total 2% Lowfat Greek Strained Yogurt with Peach, Total 0% Nonfat Greek Yogurt, Total 2% Lowfat Greek Strained Yogurt With Blueberry, Total 2% All Natural Greek Strained Yogurt with Honey, Total 2% with Strawberry Lowfat Greek Strained Yogurt)</td>\n",
              "      <td>0.004937</td>\n",
              "    </tr>\n",
              "    <tr>\n",
              "      <th>1488</th>\n",
              "      <td>(Total 2% Lowfat Greek Strained Yogurt with Peach, Total 0% Nonfat Greek Yogurt, Total 2% Lowfat Greek Strained Yogurt With Blueberry, Total 2% Greek Strained Yogurt with Cherry 5.3 oz, Total 2% with Strawberry Lowfat Greek Strained Yogurt)</td>\n",
              "      <td>0.004937</td>\n",
              "    </tr>\n",
              "    <tr>\n",
              "      <th>1489</th>\n",
              "      <td>(Total 0% Raspberry Yogurt, Total 2% Lowfat Greek Strained Yogurt with Peach, Total 2% Lowfat Greek Strained Yogurt With Blueberry, Total 2% Greek Strained Yogurt with Cherry 5.3 oz, Total 2% with Strawberry Lowfat Greek Strained Yogurt)</td>\n",
              "      <td>0.004937</td>\n",
              "    </tr>\n",
              "    <tr>\n",
              "      <th>1490</th>\n",
              "      <td>(Crunch Chocolate Peanut Butter Granola Bar, Annie's Bunny Fruit Snacks Variety, Lemon Sparkling Water, Dark &amp; Mint Filled Chocolate Squares, Organic Heritage Flakes Cereal, Orange Sparkling Water)</td>\n",
              "      <td>0.005642</td>\n",
              "    </tr>\n",
              "    <tr>\n",
              "      <th>1491</th>\n",
              "      <td>(Organic Graham Crunch Cereal, Organic Pink Lemonade Bunny Fruit Snacks, Peach-Pear Sparkling Water, Organic Heritage Flakes Cereal, Sparkling Water, Natural Mango Essenced, Dark Chocolate Minis)</td>\n",
              "      <td>0.004937</td>\n",
              "    </tr>\n",
              "  </tbody>\n",
              "</table>\n",
              "<p>1492 rows × 2 columns</p>\n",
              "</div>"
            ],
            "text/plain": [
              "                                                                                                                                                                                                                                                  itemsets  \\\n",
              "0     (0% Greek Strained Yogurt)                                                                                                                                                                                                                             \n",
              "1     (100% Juice, Variety Pack)                                                                                                                                                                                                                             \n",
              "2     (100% Premium Select Not From Concentrate Pure Prune Juice)                                                                                                                                                                                            \n",
              "3     (100% Recycled Paper Towels)                                                                                                                                                                                                                           \n",
              "4     (1500 Pale Ale)                                                                                                                                                                                                                                        \n",
              "...               ...                                                                                                                                                                                                                                        \n",
              "1487  (Total 2% Lowfat Greek Strained Yogurt with Peach, Total 0% Nonfat Greek Yogurt, Total 2% Lowfat Greek Strained Yogurt With Blueberry, Total 2% All Natural Greek Strained Yogurt with Honey, Total 2% with Strawberry Lowfat Greek Strained Yogurt)   \n",
              "1488  (Total 2% Lowfat Greek Strained Yogurt with Peach, Total 0% Nonfat Greek Yogurt, Total 2% Lowfat Greek Strained Yogurt With Blueberry, Total 2% Greek Strained Yogurt with Cherry 5.3 oz, Total 2% with Strawberry Lowfat Greek Strained Yogurt)       \n",
              "1489  (Total 0% Raspberry Yogurt, Total 2% Lowfat Greek Strained Yogurt with Peach, Total 2% Lowfat Greek Strained Yogurt With Blueberry, Total 2% Greek Strained Yogurt with Cherry 5.3 oz, Total 2% with Strawberry Lowfat Greek Strained Yogurt)          \n",
              "1490  (Crunch Chocolate Peanut Butter Granola Bar, Annie's Bunny Fruit Snacks Variety, Lemon Sparkling Water, Dark & Mint Filled Chocolate Squares, Organic Heritage Flakes Cereal, Orange Sparkling Water)                                                  \n",
              "1491  (Organic Graham Crunch Cereal, Organic Pink Lemonade Bunny Fruit Snacks, Peach-Pear Sparkling Water, Organic Heritage Flakes Cereal, Sparkling Water, Natural Mango Essenced, Dark Chocolate Minis)                                                    \n",
              "\n",
              "       support  \n",
              "0     0.009873  \n",
              "1     0.004937  \n",
              "2     0.009168  \n",
              "3     0.005642  \n",
              "4     0.014810  \n",
              "...        ...  \n",
              "1487  0.004937  \n",
              "1488  0.004937  \n",
              "1489  0.004937  \n",
              "1490  0.005642  \n",
              "1491  0.004937  \n",
              "\n",
              "[1492 rows x 2 columns]"
            ]
          },
          "metadata": {},
          "execution_count": 127
        }
      ]
    },
    {
      "cell_type": "code",
      "metadata": {
        "colab": {
          "base_uri": "https://localhost:8080/",
          "height": 810
        },
        "id": "KmnpxPR3q0TA",
        "outputId": "1ff0bfc0-764e-450e-e33b-52a7dfd3a12f"
      },
      "source": [
        "rules = association_rules(itemset, metric =\"support\", min_threshold = 0.0045).sort_values('support', ascending=False).reset_index(drop=True)\n",
        "rules"
      ],
      "execution_count": 128,
      "outputs": [
        {
          "output_type": "execute_result",
          "data": {
            "text/html": [
              "<div>\n",
              "<style scoped>\n",
              "    .dataframe tbody tr th:only-of-type {\n",
              "        vertical-align: middle;\n",
              "    }\n",
              "\n",
              "    .dataframe tbody tr th {\n",
              "        vertical-align: top;\n",
              "    }\n",
              "\n",
              "    .dataframe thead th {\n",
              "        text-align: right;\n",
              "    }\n",
              "</style>\n",
              "<table border=\"1\" class=\"dataframe\">\n",
              "  <thead>\n",
              "    <tr style=\"text-align: right;\">\n",
              "      <th></th>\n",
              "      <th>antecedents</th>\n",
              "      <th>consequents</th>\n",
              "      <th>antecedent support</th>\n",
              "      <th>consequent support</th>\n",
              "      <th>support</th>\n",
              "      <th>confidence</th>\n",
              "      <th>lift</th>\n",
              "      <th>leverage</th>\n",
              "      <th>conviction</th>\n",
              "    </tr>\n",
              "  </thead>\n",
              "  <tbody>\n",
              "    <tr>\n",
              "      <th>0</th>\n",
              "      <td>(Bag of Organic Bananas)</td>\n",
              "      <td>(Organic Hass Avocado)</td>\n",
              "      <td>0.132581</td>\n",
              "      <td>0.059238</td>\n",
              "      <td>0.020451</td>\n",
              "      <td>0.154255</td>\n",
              "      <td>2.603977</td>\n",
              "      <td>0.012597</td>\n",
              "      <td>1.112347</td>\n",
              "    </tr>\n",
              "    <tr>\n",
              "      <th>1</th>\n",
              "      <td>(Organic Hass Avocado)</td>\n",
              "      <td>(Bag of Organic Bananas)</td>\n",
              "      <td>0.059238</td>\n",
              "      <td>0.132581</td>\n",
              "      <td>0.020451</td>\n",
              "      <td>0.345238</td>\n",
              "      <td>2.603977</td>\n",
              "      <td>0.012597</td>\n",
              "      <td>1.324785</td>\n",
              "    </tr>\n",
              "    <tr>\n",
              "      <th>2</th>\n",
              "      <td>(Natural Artesian Bottled Water)</td>\n",
              "      <td>(Reduced Fat Milk)</td>\n",
              "      <td>0.037377</td>\n",
              "      <td>0.024683</td>\n",
              "      <td>0.019746</td>\n",
              "      <td>0.528302</td>\n",
              "      <td>21.403774</td>\n",
              "      <td>0.018824</td>\n",
              "      <td>2.067673</td>\n",
              "    </tr>\n",
              "    <tr>\n",
              "      <th>3</th>\n",
              "      <td>(Reduced Fat Milk)</td>\n",
              "      <td>(Natural Artesian Bottled Water)</td>\n",
              "      <td>0.024683</td>\n",
              "      <td>0.037377</td>\n",
              "      <td>0.019746</td>\n",
              "      <td>0.800000</td>\n",
              "      <td>21.403774</td>\n",
              "      <td>0.018824</td>\n",
              "      <td>4.813117</td>\n",
              "    </tr>\n",
              "    <tr>\n",
              "      <th>4</th>\n",
              "      <td>(Natural Lime Flavor Sparkling Mineral Water)</td>\n",
              "      <td>(Grade A Extra Large Eggs)</td>\n",
              "      <td>0.023977</td>\n",
              "      <td>0.021157</td>\n",
              "      <td>0.019041</td>\n",
              "      <td>0.794118</td>\n",
              "      <td>37.535294</td>\n",
              "      <td>0.018534</td>\n",
              "      <td>4.754382</td>\n",
              "    </tr>\n",
              "    <tr>\n",
              "      <th>...</th>\n",
              "      <td>...</td>\n",
              "      <td>...</td>\n",
              "      <td>...</td>\n",
              "      <td>...</td>\n",
              "      <td>...</td>\n",
              "      <td>...</td>\n",
              "      <td>...</td>\n",
              "      <td>...</td>\n",
              "      <td>...</td>\n",
              "    </tr>\n",
              "    <tr>\n",
              "      <th>5857</th>\n",
              "      <td>(Organic Strawberry Chia Lowfat 2% Cottage Cheese)</td>\n",
              "      <td>(Light and Lean Quinoa Black Beans with Butternut Squash and Chard)</td>\n",
              "      <td>0.005642</td>\n",
              "      <td>0.007757</td>\n",
              "      <td>0.004937</td>\n",
              "      <td>0.875000</td>\n",
              "      <td>112.795455</td>\n",
              "      <td>0.004893</td>\n",
              "      <td>7.937941</td>\n",
              "    </tr>\n",
              "    <tr>\n",
              "      <th>5858</th>\n",
              "      <td>(Light and Lean Quinoa Black Beans with Butternut Squash and Chard)</td>\n",
              "      <td>(Organic Cottage Cheese Blueberry Acai Chia)</td>\n",
              "      <td>0.007757</td>\n",
              "      <td>0.005642</td>\n",
              "      <td>0.004937</td>\n",
              "      <td>0.636364</td>\n",
              "      <td>112.795455</td>\n",
              "      <td>0.004893</td>\n",
              "      <td>2.734485</td>\n",
              "    </tr>\n",
              "    <tr>\n",
              "      <th>5859</th>\n",
              "      <td>(Organic Cottage Cheese Blueberry Acai Chia)</td>\n",
              "      <td>(Light and Lean Quinoa Black Beans with Butternut Squash and Chard)</td>\n",
              "      <td>0.005642</td>\n",
              "      <td>0.007757</td>\n",
              "      <td>0.004937</td>\n",
              "      <td>0.875000</td>\n",
              "      <td>112.795455</td>\n",
              "      <td>0.004893</td>\n",
              "      <td>7.937941</td>\n",
              "    </tr>\n",
              "    <tr>\n",
              "      <th>5860</th>\n",
              "      <td>(Lemon Sparkling Water)</td>\n",
              "      <td>(Organic Bunny Fruit Tropical Treat Fruit Snacks)</td>\n",
              "      <td>0.011989</td>\n",
              "      <td>0.009168</td>\n",
              "      <td>0.004937</td>\n",
              "      <td>0.411765</td>\n",
              "      <td>44.914027</td>\n",
              "      <td>0.004827</td>\n",
              "      <td>1.684415</td>\n",
              "    </tr>\n",
              "    <tr>\n",
              "      <th>5861</th>\n",
              "      <td>(Dark Chocolate Minis)</td>\n",
              "      <td>(Organic Graham Crunch Cereal, Organic Pink Lemonade Bunny Fruit Snacks, Peach-Pear Sparkling Water, Organic Heritage Flakes Cereal, Sparkling Water, Natural Mango Essenced)</td>\n",
              "      <td>0.021157</td>\n",
              "      <td>0.005642</td>\n",
              "      <td>0.004937</td>\n",
              "      <td>0.233333</td>\n",
              "      <td>41.358333</td>\n",
              "      <td>0.004817</td>\n",
              "      <td>1.296989</td>\n",
              "    </tr>\n",
              "  </tbody>\n",
              "</table>\n",
              "<p>5862 rows × 9 columns</p>\n",
              "</div>"
            ],
            "text/plain": [
              "                                                              antecedents  \\\n",
              "0     (Bag of Organic Bananas)                                              \n",
              "1     (Organic Hass Avocado)                                                \n",
              "2     (Natural Artesian Bottled Water)                                      \n",
              "3     (Reduced Fat Milk)                                                    \n",
              "4     (Natural Lime Flavor Sparkling Mineral Water)                         \n",
              "...                                             ...                         \n",
              "5857  (Organic Strawberry Chia Lowfat 2% Cottage Cheese)                    \n",
              "5858  (Light and Lean Quinoa Black Beans with Butternut Squash and Chard)   \n",
              "5859  (Organic Cottage Cheese Blueberry Acai Chia)                          \n",
              "5860  (Lemon Sparkling Water)                                               \n",
              "5861  (Dark Chocolate Minis)                                                \n",
              "\n",
              "                                                                                                                                                                        consequents  \\\n",
              "0     (Organic Hass Avocado)                                                                                                                                                          \n",
              "1     (Bag of Organic Bananas)                                                                                                                                                        \n",
              "2     (Reduced Fat Milk)                                                                                                                                                              \n",
              "3     (Natural Artesian Bottled Water)                                                                                                                                                \n",
              "4     (Grade A Extra Large Eggs)                                                                                                                                                      \n",
              "...                          ...                                                                                                                                                      \n",
              "5857  (Light and Lean Quinoa Black Beans with Butternut Squash and Chard)                                                                                                             \n",
              "5858  (Organic Cottage Cheese Blueberry Acai Chia)                                                                                                                                    \n",
              "5859  (Light and Lean Quinoa Black Beans with Butternut Squash and Chard)                                                                                                             \n",
              "5860  (Organic Bunny Fruit Tropical Treat Fruit Snacks)                                                                                                                               \n",
              "5861  (Organic Graham Crunch Cereal, Organic Pink Lemonade Bunny Fruit Snacks, Peach-Pear Sparkling Water, Organic Heritage Flakes Cereal, Sparkling Water, Natural Mango Essenced)   \n",
              "\n",
              "      antecedent support  consequent support   support  confidence  \\\n",
              "0     0.132581            0.059238            0.020451  0.154255     \n",
              "1     0.059238            0.132581            0.020451  0.345238     \n",
              "2     0.037377            0.024683            0.019746  0.528302     \n",
              "3     0.024683            0.037377            0.019746  0.800000     \n",
              "4     0.023977            0.021157            0.019041  0.794118     \n",
              "...        ...                 ...                 ...       ...     \n",
              "5857  0.005642            0.007757            0.004937  0.875000     \n",
              "5858  0.007757            0.005642            0.004937  0.636364     \n",
              "5859  0.005642            0.007757            0.004937  0.875000     \n",
              "5860  0.011989            0.009168            0.004937  0.411765     \n",
              "5861  0.021157            0.005642            0.004937  0.233333     \n",
              "\n",
              "            lift  leverage  conviction  \n",
              "0     2.603977    0.012597  1.112347    \n",
              "1     2.603977    0.012597  1.324785    \n",
              "2     21.403774   0.018824  2.067673    \n",
              "3     21.403774   0.018824  4.813117    \n",
              "4     37.535294   0.018534  4.754382    \n",
              "...         ...        ...       ...    \n",
              "5857  112.795455  0.004893  7.937941    \n",
              "5858  112.795455  0.004893  2.734485    \n",
              "5859  112.795455  0.004893  7.937941    \n",
              "5860  44.914027   0.004827  1.684415    \n",
              "5861  41.358333   0.004817  1.296989    \n",
              "\n",
              "[5862 rows x 9 columns]"
            ]
          },
          "metadata": {},
          "execution_count": 128
        }
      ]
    },
    {
      "cell_type": "markdown",
      "metadata": {
        "id": "69hW0GNvuYU3"
      },
      "source": [
        "### **TEST DATASET**"
      ]
    },
    {
      "cell_type": "code",
      "metadata": {
        "id": "vSqmSg3ojLMU"
      },
      "source": [
        "df = pd.read_csv(\"/content/testarules.csv\")"
      ],
      "execution_count": 129,
      "outputs": []
    },
    {
      "cell_type": "code",
      "metadata": {
        "id": "m7XDwXp7ppNW"
      },
      "source": [
        "processed = df.fillna(0)"
      ],
      "execution_count": 130,
      "outputs": []
    },
    {
      "cell_type": "code",
      "metadata": {
        "colab": {
          "base_uri": "https://localhost:8080/",
          "height": 80
        },
        "id": "uSlsaXCJpyt-",
        "outputId": "7343331d-f239-4382-ffe0-4def7accb460"
      },
      "source": [
        "processed"
      ],
      "execution_count": 131,
      "outputs": [
        {
          "output_type": "execute_result",
          "data": {
            "text/html": [
              "<div>\n",
              "<style scoped>\n",
              "    .dataframe tbody tr th:only-of-type {\n",
              "        vertical-align: middle;\n",
              "    }\n",
              "\n",
              "    .dataframe tbody tr th {\n",
              "        vertical-align: top;\n",
              "    }\n",
              "\n",
              "    .dataframe thead th {\n",
              "        text-align: right;\n",
              "    }\n",
              "</style>\n",
              "<table border=\"1\" class=\"dataframe\">\n",
              "  <thead>\n",
              "    <tr style=\"text-align: right;\">\n",
              "      <th></th>\n",
              "      <th>Item1</th>\n",
              "      <th>Item2</th>\n",
              "      <th>Item3</th>\n",
              "      <th>Item4</th>\n",
              "      <th>Item5</th>\n",
              "    </tr>\n",
              "  </thead>\n",
              "  <tbody>\n",
              "    <tr>\n",
              "      <th>0</th>\n",
              "      <td>Dark Chocolate Minis</td>\n",
              "      <td>Organic Pink Lemonade Bunny Fruit Snacks</td>\n",
              "      <td>Peach-Pear Sparkling Water</td>\n",
              "      <td>0.0</td>\n",
              "      <td>0.0</td>\n",
              "    </tr>\n",
              "  </tbody>\n",
              "</table>\n",
              "</div>"
            ],
            "text/plain": [
              "                  Item1                                     Item2  \\\n",
              "0  Dark Chocolate Minis  Organic Pink Lemonade Bunny Fruit Snacks   \n",
              "\n",
              "                        Item3  Item4  Item5  \n",
              "0  Peach-Pear Sparkling Water  0.0    0.0    "
            ]
          },
          "metadata": {},
          "execution_count": 131
        }
      ]
    },
    {
      "cell_type": "code",
      "metadata": {
        "id": "16uYyOdmjpnQ"
      },
      "source": [
        "transactions = []\n",
        "for i in range(0,len(df)):\n",
        "    transactions.append([str(processed.values[i,j]) for j in range(0,5) if str(processed.values[i,j])!='0.0'])"
      ],
      "execution_count": 132,
      "outputs": []
    },
    {
      "cell_type": "code",
      "metadata": {
        "colab": {
          "base_uri": "https://localhost:8080/"
        },
        "id": "asl-ODYolofN",
        "outputId": "b8f122e0-ed12-408e-987e-3fb140d2506f"
      },
      "source": [
        "transactions"
      ],
      "execution_count": 133,
      "outputs": [
        {
          "output_type": "execute_result",
          "data": {
            "text/plain": [
              "[['Dark Chocolate Minis',\n",
              "  'Organic Pink Lemonade Bunny Fruit Snacks',\n",
              "  'Peach-Pear Sparkling Water']]"
            ]
          },
          "metadata": {},
          "execution_count": 133
        }
      ]
    },
    {
      "cell_type": "code",
      "metadata": {
        "id": "yyML3LlLlyiH"
      },
      "source": [
        "test_dataset = rules[rules['antecedents'] == {'Dark Chocolate Minis', 'Organic Pink Lemonade Bunny Fruit Snacks', 'Peach-Pear Sparkling Water'}]"
      ],
      "execution_count": 138,
      "outputs": []
    },
    {
      "cell_type": "markdown",
      "metadata": {
        "id": "3JHHMcBouc0Y"
      },
      "source": [
        "### **FINDING NEXT BASKET ITEM**"
      ]
    },
    {
      "cell_type": "code",
      "metadata": {
        "colab": {
          "base_uri": "https://localhost:8080/",
          "height": 957
        },
        "id": "dmMHxGQYryNP",
        "outputId": "881da917-e0f2-4445-a4cd-5f2e4697eccb"
      },
      "source": [
        "test_dataset"
      ],
      "execution_count": 139,
      "outputs": [
        {
          "output_type": "execute_result",
          "data": {
            "text/html": [
              "<div>\n",
              "<style scoped>\n",
              "    .dataframe tbody tr th:only-of-type {\n",
              "        vertical-align: middle;\n",
              "    }\n",
              "\n",
              "    .dataframe tbody tr th {\n",
              "        vertical-align: top;\n",
              "    }\n",
              "\n",
              "    .dataframe thead th {\n",
              "        text-align: right;\n",
              "    }\n",
              "</style>\n",
              "<table border=\"1\" class=\"dataframe\">\n",
              "  <thead>\n",
              "    <tr style=\"text-align: right;\">\n",
              "      <th></th>\n",
              "      <th>antecedents</th>\n",
              "      <th>consequents</th>\n",
              "      <th>antecedent support</th>\n",
              "      <th>consequent support</th>\n",
              "      <th>support</th>\n",
              "      <th>confidence</th>\n",
              "      <th>lift</th>\n",
              "      <th>leverage</th>\n",
              "      <th>conviction</th>\n",
              "    </tr>\n",
              "  </thead>\n",
              "  <tbody>\n",
              "    <tr>\n",
              "      <th>125</th>\n",
              "      <td>(Peach-Pear Sparkling Water, Organic Pink Lemonade Bunny Fruit Snacks, Dark Chocolate Minis)</td>\n",
              "      <td>(Sparkling Water, Natural Mango Essenced)</td>\n",
              "      <td>0.011283</td>\n",
              "      <td>0.013399</td>\n",
              "      <td>0.010578</td>\n",
              "      <td>0.9375</td>\n",
              "      <td>69.967105</td>\n",
              "      <td>0.010427</td>\n",
              "      <td>15.785614</td>\n",
              "    </tr>\n",
              "    <tr>\n",
              "      <th>332</th>\n",
              "      <td>(Peach-Pear Sparkling Water, Organic Pink Lemonade Bunny Fruit Snacks, Dark Chocolate Minis)</td>\n",
              "      <td>(Organic Heritage Flakes Cereal)</td>\n",
              "      <td>0.011283</td>\n",
              "      <td>0.031030</td>\n",
              "      <td>0.008463</td>\n",
              "      <td>0.7500</td>\n",
              "      <td>24.170455</td>\n",
              "      <td>0.008113</td>\n",
              "      <td>3.875882</td>\n",
              "    </tr>\n",
              "    <tr>\n",
              "      <th>437</th>\n",
              "      <td>(Peach-Pear Sparkling Water, Organic Pink Lemonade Bunny Fruit Snacks, Dark Chocolate Minis)</td>\n",
              "      <td>(Organic Heritage Flakes Cereal, Sparkling Water, Natural Mango Essenced)</td>\n",
              "      <td>0.011283</td>\n",
              "      <td>0.009873</td>\n",
              "      <td>0.007757</td>\n",
              "      <td>0.6875</td>\n",
              "      <td>69.633929</td>\n",
              "      <td>0.007646</td>\n",
              "      <td>3.168406</td>\n",
              "    </tr>\n",
              "    <tr>\n",
              "      <th>3632</th>\n",
              "      <td>(Peach-Pear Sparkling Water, Organic Pink Lemonade Bunny Fruit Snacks, Dark Chocolate Minis)</td>\n",
              "      <td>(Organic Graham Crunch Cereal, Organic Heritage Flakes Cereal)</td>\n",
              "      <td>0.011283</td>\n",
              "      <td>0.011989</td>\n",
              "      <td>0.004937</td>\n",
              "      <td>0.4375</td>\n",
              "      <td>36.492647</td>\n",
              "      <td>0.004801</td>\n",
              "      <td>1.756465</td>\n",
              "    </tr>\n",
              "    <tr>\n",
              "      <th>3669</th>\n",
              "      <td>(Peach-Pear Sparkling Water, Organic Pink Lemonade Bunny Fruit Snacks, Dark Chocolate Minis)</td>\n",
              "      <td>(Organic Graham Crunch Cereal, Sparkling Water, Natural Mango Essenced)</td>\n",
              "      <td>0.011283</td>\n",
              "      <td>0.006347</td>\n",
              "      <td>0.004937</td>\n",
              "      <td>0.4375</td>\n",
              "      <td>68.930556</td>\n",
              "      <td>0.004865</td>\n",
              "      <td>1.766494</td>\n",
              "    </tr>\n",
              "    <tr>\n",
              "      <th>3778</th>\n",
              "      <td>(Peach-Pear Sparkling Water, Organic Pink Lemonade Bunny Fruit Snacks, Dark Chocolate Minis)</td>\n",
              "      <td>(Organic Graham Crunch Cereal, Organic Heritage Flakes Cereal, Sparkling Water, Natural Mango Essenced)</td>\n",
              "      <td>0.011283</td>\n",
              "      <td>0.006347</td>\n",
              "      <td>0.004937</td>\n",
              "      <td>0.4375</td>\n",
              "      <td>68.930556</td>\n",
              "      <td>0.004865</td>\n",
              "      <td>1.766494</td>\n",
              "    </tr>\n",
              "    <tr>\n",
              "      <th>4128</th>\n",
              "      <td>(Peach-Pear Sparkling Water, Organic Pink Lemonade Bunny Fruit Snacks, Dark Chocolate Minis)</td>\n",
              "      <td>(Maple Pumpkin Seeds with Sea Salt Chewy with a Crunch Granola Bars, Organic Heritage Flakes Cereal)</td>\n",
              "      <td>0.011283</td>\n",
              "      <td>0.012694</td>\n",
              "      <td>0.004937</td>\n",
              "      <td>0.4375</td>\n",
              "      <td>34.465278</td>\n",
              "      <td>0.004793</td>\n",
              "      <td>1.755211</td>\n",
              "    </tr>\n",
              "    <tr>\n",
              "      <th>5284</th>\n",
              "      <td>(Peach-Pear Sparkling Water, Organic Pink Lemonade Bunny Fruit Snacks, Dark Chocolate Minis)</td>\n",
              "      <td>(Organic Graham Crunch Cereal)</td>\n",
              "      <td>0.011283</td>\n",
              "      <td>0.014104</td>\n",
              "      <td>0.004937</td>\n",
              "      <td>0.4375</td>\n",
              "      <td>31.018750</td>\n",
              "      <td>0.004777</td>\n",
              "      <td>1.752703</td>\n",
              "    </tr>\n",
              "    <tr>\n",
              "      <th>5429</th>\n",
              "      <td>(Peach-Pear Sparkling Water, Organic Pink Lemonade Bunny Fruit Snacks, Dark Chocolate Minis)</td>\n",
              "      <td>(Maple Pumpkin Seeds with Sea Salt Chewy with a Crunch Granola Bars)</td>\n",
              "      <td>0.011283</td>\n",
              "      <td>0.016220</td>\n",
              "      <td>0.004937</td>\n",
              "      <td>0.4375</td>\n",
              "      <td>26.972826</td>\n",
              "      <td>0.004754</td>\n",
              "      <td>1.748942</td>\n",
              "    </tr>\n",
              "  </tbody>\n",
              "</table>\n",
              "</div>"
            ],
            "text/plain": [
              "                                                                                       antecedents  \\\n",
              "125   (Peach-Pear Sparkling Water, Organic Pink Lemonade Bunny Fruit Snacks, Dark Chocolate Minis)   \n",
              "332   (Peach-Pear Sparkling Water, Organic Pink Lemonade Bunny Fruit Snacks, Dark Chocolate Minis)   \n",
              "437   (Peach-Pear Sparkling Water, Organic Pink Lemonade Bunny Fruit Snacks, Dark Chocolate Minis)   \n",
              "3632  (Peach-Pear Sparkling Water, Organic Pink Lemonade Bunny Fruit Snacks, Dark Chocolate Minis)   \n",
              "3669  (Peach-Pear Sparkling Water, Organic Pink Lemonade Bunny Fruit Snacks, Dark Chocolate Minis)   \n",
              "3778  (Peach-Pear Sparkling Water, Organic Pink Lemonade Bunny Fruit Snacks, Dark Chocolate Minis)   \n",
              "4128  (Peach-Pear Sparkling Water, Organic Pink Lemonade Bunny Fruit Snacks, Dark Chocolate Minis)   \n",
              "5284  (Peach-Pear Sparkling Water, Organic Pink Lemonade Bunny Fruit Snacks, Dark Chocolate Minis)   \n",
              "5429  (Peach-Pear Sparkling Water, Organic Pink Lemonade Bunny Fruit Snacks, Dark Chocolate Minis)   \n",
              "\n",
              "                                                                                                  consequents  \\\n",
              "125   (Sparkling Water, Natural Mango Essenced)                                                                 \n",
              "332   (Organic Heritage Flakes Cereal)                                                                          \n",
              "437   (Organic Heritage Flakes Cereal, Sparkling Water, Natural Mango Essenced)                                 \n",
              "3632  (Organic Graham Crunch Cereal, Organic Heritage Flakes Cereal)                                            \n",
              "3669  (Organic Graham Crunch Cereal, Sparkling Water, Natural Mango Essenced)                                   \n",
              "3778  (Organic Graham Crunch Cereal, Organic Heritage Flakes Cereal, Sparkling Water, Natural Mango Essenced)   \n",
              "4128  (Maple Pumpkin Seeds with Sea Salt Chewy with a Crunch Granola Bars, Organic Heritage Flakes Cereal)      \n",
              "5284  (Organic Graham Crunch Cereal)                                                                            \n",
              "5429  (Maple Pumpkin Seeds with Sea Salt Chewy with a Crunch Granola Bars)                                      \n",
              "\n",
              "      antecedent support  consequent support   support  confidence       lift  \\\n",
              "125   0.011283            0.013399            0.010578  0.9375      69.967105   \n",
              "332   0.011283            0.031030            0.008463  0.7500      24.170455   \n",
              "437   0.011283            0.009873            0.007757  0.6875      69.633929   \n",
              "3632  0.011283            0.011989            0.004937  0.4375      36.492647   \n",
              "3669  0.011283            0.006347            0.004937  0.4375      68.930556   \n",
              "3778  0.011283            0.006347            0.004937  0.4375      68.930556   \n",
              "4128  0.011283            0.012694            0.004937  0.4375      34.465278   \n",
              "5284  0.011283            0.014104            0.004937  0.4375      31.018750   \n",
              "5429  0.011283            0.016220            0.004937  0.4375      26.972826   \n",
              "\n",
              "      leverage  conviction  \n",
              "125   0.010427  15.785614   \n",
              "332   0.008113  3.875882    \n",
              "437   0.007646  3.168406    \n",
              "3632  0.004801  1.756465    \n",
              "3669  0.004865  1.766494    \n",
              "3778  0.004865  1.766494    \n",
              "4128  0.004793  1.755211    \n",
              "5284  0.004777  1.752703    \n",
              "5429  0.004754  1.748942    "
            ]
          },
          "metadata": {},
          "execution_count": 139
        }
      ]
    }
  ]
}